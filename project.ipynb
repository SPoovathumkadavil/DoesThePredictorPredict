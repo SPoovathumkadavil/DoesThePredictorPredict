{
 "cells": [
  {
   "cell_type": "markdown",
   "metadata": {},
   "source": [
    "## How often does the EPA breakdown of teams in a match correctly predict a match win?\n",
    "\n",
    "EPA stands for Expected Points Added and is a standard for predicting individual robot contributions. In this project, I will use EPA scored for each match played by Team 4500 to create a working range at a 95% confidence interval.\n",
    "\n",
    "EPA is similar to Elo but without the arbritary units. The downside is that it usually takes a few matches to get the EPA to a reasonably accurate value. As such, I will make two data sets, one with all the data, and another ignoring the first two matches."
   ]
  },
  {
   "cell_type": "code",
   "execution_count": 22,
   "metadata": {},
   "outputs": [
    {
     "name": "stdout",
     "output_type": "stream",
     "text": [
      "Year: 2013\n",
      "Match: 2\n",
      "red EPA Sum: 33.52\n",
      "blue EPA Sum: 42.24\n",
      "Winner: blue\n",
      "[{'key': '2023mosl_qm7', 'year': 2023, 'event': '2023mosl', 'comp_level': 'qm', 'set_number': 1, 'match_number': 7, 'offseason': False, 'status': 'Completed', 'video': 'l_RrvDe8FX8', 'red_1': 8077, 'red_2': 931, 'red_3': 4143, 'red_dq': '', 'red_surrogate': '', 'red_epa_sum': 71.5, 'red_auto_epa_sum': 19.84, 'red_teleop_epa_sum': 33.23, 'red_endgame_epa_sum': 18.42, 'red_rp_1_epa_sum': -0.3591, 'red_rp_2_epa_sum': 0.3876, 'blue_1': 34, 'blue_2': 6744, 'blue_3': 4500, 'blue_dq': '', 'blue_surrogate': '', 'blue_epa_sum': 67.16, 'blue_auto_epa_sum': 18.64, 'blue_teleop_epa_sum': 31.22, 'blue_endgame_epa_sum': 17.3, 'blue_rp_1_epa_sum': -0.396, 'blue_rp_2_epa_sum': 0.3506, 'winner': 'red', 'epa_winner': 'red', 'epa_win_prob': 0.553, 'red_rp_1_prob': 0.0312, 'red_rp_2_prob': 0.3894, 'blue_rp_1_prob': 0.027, 'blue_rp_2_prob': 0.3549, 'playoff': False, 'time': 1678463280, 'predicted_time': 1678463116, 'red_score': 107, 'blue_score': 55, 'red_auto': 23, 'red_auto_movement': 3, 'red_teleop': 57, 'red_endgame': 22, 'red_no_fouls': 102, 'red_fouls': 5, 'red_rp_1': 1, 'red_rp_2': 1, 'red_tiebreaker': 102, 'blue_auto': 6, 'blue_auto_movement': 3, 'blue_teleop': 35, 'blue_endgame': 14, 'blue_no_fouls': 55, 'blue_fouls': 0, 'blue_rp_1': 0, 'blue_rp_2': 0, 'blue_tiebreaker': 55}, {'key': '2023mosl_qm12', 'year': 2023, 'event': '2023mosl', 'comp_level': 'qm', 'set_number': 1, 'match_number': 12, 'offseason': False, 'status': 'Completed', 'video': 'B9nZQQJd7AM', 'red_1': 1756, 'red_2': 4500, 'red_3': 4232, 'red_dq': '', 'red_surrogate': '', 'red_epa_sum': 81.18, 'red_auto_epa_sum': 22.45, 'red_teleop_epa_sum': 41.18, 'red_endgame_epa_sum': 17.56, 'red_rp_1_epa_sum': -0.2965, 'red_rp_2_epa_sum': 0.3455, 'blue_1': 5060, 'blue_2': 1259, 'blue_3': 8077, 'blue_dq': '', 'blue_surrogate': '', 'blue_epa_sum': 61.43, 'blue_auto_epa_sum': 18.99, 'blue_teleop_epa_sum': 29.81, 'blue_endgame_epa_sum': 12.64, 'blue_rp_1_epa_sum': -0.3647, 'blue_rp_2_epa_sum': 0.2801, 'winner': 'red', 'epa_winner': 'red', 'epa_win_prob': 0.7247, 'red_rp_1_prob': 0.0397, 'red_rp_2_prob': 0.3503, 'blue_rp_1_prob': 0.0305, 'blue_rp_2_prob': 0.2933, 'playoff': False, 'time': 1678465680, 'predicted_time': 1678465403, 'red_score': 118, 'blue_score': 63, 'red_auto': 36, 'red_auto_movement': 9, 'red_teleop': 60, 'red_endgame': 22, 'red_no_fouls': 118, 'red_fouls': 0, 'red_rp_1': 1, 'red_rp_2': 1, 'red_tiebreaker': 118, 'blue_auto': 18, 'blue_auto_movement': 6, 'blue_teleop': 10, 'blue_endgame': 18, 'blue_no_fouls': 46, 'blue_fouls': 17, 'blue_rp_1': 0, 'blue_rp_2': 1, 'blue_tiebreaker': 46}, {'key': '2023mosl_qm17', 'year': 2023, 'event': '2023mosl', 'comp_level': 'qm', 'set_number': 1, 'match_number': 17, 'offseason': False, 'status': 'Completed', 'video': 'BIvxhExa64s', 'red_1': 4500, 'red_2': 7452, 'red_3': 8077, 'red_dq': '', 'red_surrogate': '', 'red_epa_sum': 65.61, 'red_auto_epa_sum': 15.09, 'red_teleop_epa_sum': 34.4, 'red_endgame_epa_sum': 16.12, 'red_rp_1_epa_sum': -0.2693, 'red_rp_2_epa_sum': 0.3884, 'blue_1': 1706, 'blue_2': 5176, 'blue_3': 8069, 'blue_dq': '', 'blue_surrogate': '', 'blue_epa_sum': 75.25, 'blue_auto_epa_sum': 21.76, 'blue_teleop_epa_sum': 36.67, 'blue_endgame_epa_sum': 16.82, 'blue_rp_1_epa_sum': -0.3366, 'blue_rp_2_epa_sum': 0.3077, 'winner': 'blue', 'epa_winner': 'blue', 'epa_win_prob': 0.384, 'red_rp_1_prob': 0.0441, 'red_rp_2_prob': 0.3902, 'blue_rp_1_prob': 0.034, 'blue_rp_2_prob': 0.3166, 'playoff': False, 'time': 1678468080, 'predicted_time': 1678467780, 'red_score': 53, 'blue_score': 80, 'red_auto': 21, 'red_auto_movement': 6, 'red_teleop': 20, 'red_endgame': 12, 'red_no_fouls': 53, 'red_fouls': 0, 'red_rp_1': 0, 'red_rp_2': 0, 'red_tiebreaker': 53, 'blue_auto': 21, 'blue_auto_movement': 6, 'blue_teleop': 37, 'blue_endgame': 22, 'blue_no_fouls': 80, 'blue_fouls': 0, 'blue_rp_1': 0, 'blue_rp_2': 1, 'blue_tiebreaker': 80}, {'key': '2023mosl_qm24', 'year': 2023, 'event': '2023mosl', 'comp_level': 'qm', 'set_number': 1, 'match_number': 24, 'offseason': False, 'status': 'Completed', 'video': '4NyNCpnxRFc', 'red_1': 5060, 'red_2': 4500, 'red_3': 1178, 'red_dq': '', 'red_surrogate': '', 'red_epa_sum': 67.25, 'red_auto_epa_sum': 19.92, 'red_teleop_epa_sum': 29.11, 'red_endgame_epa_sum': 18.22, 'red_rp_1_epa_sum': -0.3743, 'red_rp_2_epa_sum': 0.4035, 'blue_1': 7747, 'blue_2': 4418, 'blue_3': 1259, 'blue_dq': '', 'blue_surrogate': '', 'blue_epa_sum': 56.98, 'blue_auto_epa_sum': 19.37, 'blue_teleop_epa_sum': 23.91, 'blue_endgame_epa_sum': 13.7, 'blue_rp_1_epa_sum': -0.344, 'blue_rp_2_epa_sum': 0.4973, 'winner': 'red', 'epa_winner': 'red', 'epa_win_prob': 0.6233, 'red_rp_1_prob': 0.0294, 'red_rp_2_prob': 0.4047, 'blue_rp_1_prob': 0.0331, 'blue_rp_2_prob': 0.4973, 'playoff': False, 'time': 1678475280, 'predicted_time': 1678475374, 'red_score': 88, 'blue_score': 42, 'red_auto': 30, 'red_auto_movement': 9, 'red_teleop': 36, 'red_endgame': 22, 'red_no_fouls': 88, 'red_fouls': 0, 'red_rp_1': 0, 'red_rp_2': 1, 'red_tiebreaker': 88, 'blue_auto': 3, 'blue_auto_movement': 3, 'blue_teleop': 33, 'blue_endgame': 6, 'blue_no_fouls': 42, 'blue_fouls': 0, 'blue_rp_1': 0, 'blue_rp_2': 0, 'blue_tiebreaker': 42}, {'key': '2023mosl_qm30', 'year': 2023, 'event': '2023mosl', 'comp_level': 'qm', 'set_number': 1, 'match_number': 30, 'offseason': False, 'status': 'Completed', 'video': 'uk1F-YxKdTQ', 'red_1': 706, 'red_2': 1756, 'red_3': 4931, 'red_dq': '', 'red_surrogate': '', 'red_epa_sum': 83.39, 'red_auto_epa_sum': 24.51, 'red_teleop_epa_sum': 44.44, 'red_endgame_epa_sum': 14.44, 'red_rp_1_epa_sum': -0.1943, 'red_rp_2_epa_sum': 0.2688, 'blue_1': 4500, 'blue_2': 7747, 'blue_3': 2202, 'blue_dq': '', 'blue_surrogate': '', 'blue_epa_sum': 88.14, 'blue_auto_epa_sum': 23.34, 'blue_teleop_epa_sum': 43.45, 'blue_endgame_epa_sum': 21.35, 'blue_rp_1_epa_sum': -0.1715, 'blue_rp_2_epa_sum': 0.7222, 'winner': 'blue', 'epa_winner': 'blue', 'epa_win_prob': 0.4421, 'red_rp_1_prob': 0.0586, 'red_rp_2_prob': 0.284, 'blue_rp_1_prob': 0.0638, 'blue_rp_2_prob': 0.7087, 'playoff': False, 'time': 1678478160, 'predicted_time': 1678478357, 'red_score': 104, 'blue_score': 111, 'red_auto': 36, 'red_auto_movement': 6, 'red_teleop': 60, 'red_endgame': 8, 'red_no_fouls': 104, 'red_fouls': 0, 'red_rp_1': 1, 'red_rp_2': 0, 'red_tiebreaker': 104, 'blue_auto': 21, 'blue_auto_movement': 6, 'blue_teleop': 65, 'blue_endgame': 20, 'blue_no_fouls': 106, 'blue_fouls': 5, 'blue_rp_1': 1, 'blue_rp_2': 1, 'blue_tiebreaker': 106}, {'key': '2023mosl_qm37', 'year': 2023, 'event': '2023mosl', 'comp_level': 'qm', 'set_number': 1, 'match_number': 37, 'offseason': False, 'status': 'Completed', 'video': 'l3mtAxbHScA', 'red_1': 8719, 'red_2': 4500, 'red_3': 7472, 'red_dq': '', 'red_surrogate': '', 'red_epa_sum': 75.56, 'red_auto_epa_sum': 17.71, 'red_teleop_epa_sum': 36.52, 'red_endgame_epa_sum': 21.33, 'red_rp_1_epa_sum': -0.2968, 'red_rp_2_epa_sum': 0.4261, 'blue_1': 1756, 'blue_2': 4329, 'blue_3': 1178, 'blue_dq': '', 'blue_surrogate': '', 'blue_epa_sum': 102.1, 'blue_auto_epa_sum': 30.89, 'blue_teleop_epa_sum': 50.2, 'blue_endgame_epa_sum': 21.02, 'blue_rp_1_epa_sum': -0.0656, 'blue_rp_2_epa_sum': 0.6269, 'winner': 'blue', 'epa_winner': 'blue', 'epa_win_prob': 0.214, 'red_rp_1_prob': 0.0396, 'red_rp_2_prob': 0.4267, 'blue_rp_1_prob': 0.0943, 'blue_rp_2_prob': 0.6243, 'playoff': False, 'time': 1678481520, 'predicted_time': 1678481364, 'red_score': 66, 'blue_score': 118, 'red_auto': 17, 'red_auto_movement': 6, 'red_teleop': 27, 'red_endgame': 22, 'red_no_fouls': 66, 'red_fouls': 0, 'red_rp_1': 0, 'red_rp_2': 1, 'red_tiebreaker': 66, 'blue_auto': 31, 'blue_auto_movement': 3, 'blue_teleop': 60, 'blue_endgame': 22, 'blue_no_fouls': 113, 'blue_fouls': 5, 'blue_rp_1': 0, 'blue_rp_2': 1, 'blue_tiebreaker': 113}, {'key': '2023mosl_qm44', 'year': 2023, 'event': '2023mosl', 'comp_level': 'qm', 'set_number': 1, 'match_number': 44, 'offseason': False, 'status': 'Completed', 'video': 'pLDa8WJ5bHU', 'red_1': 1756, 'red_2': 4256, 'red_3': 1982, 'red_dq': '', 'red_surrogate': '', 'red_epa_sum': 104.85, 'red_auto_epa_sum': 29.61, 'red_teleop_epa_sum': 51.95, 'red_endgame_epa_sum': 23.28, 'red_rp_1_epa_sum': -0.0545, 'red_rp_2_epa_sum': 0.7363, 'blue_1': 1288, 'blue_2': 1706, 'blue_3': 4500, 'blue_dq': '', 'blue_surrogate': '', 'blue_epa_sum': 95.98, 'blue_auto_epa_sum': 28.02, 'blue_teleop_epa_sum': 46.41, 'blue_endgame_epa_sum': 21.55, 'blue_rp_1_epa_sum': -0.0488, 'blue_rp_2_epa_sum': 0.7745, 'winner': 'blue', 'epa_winner': 'red', 'epa_win_prob': 0.607, 'red_rp_1_prob': 0.0982, 'red_rp_2_prob': 0.7201, 'blue_rp_1_prob': 0.1002, 'blue_rp_2_prob': 0.7499, 'playoff': False, 'time': 1678484880, 'predicted_time': 1678484725, 'red_score': 112, 'blue_score': 123, 'red_auto': 29, 'red_auto_movement': 9, 'red_teleop': 70, 'red_endgame': 8, 'red_no_fouls': 107, 'red_fouls': 5, 'red_rp_1': 1, 'red_rp_2': 0, 'red_tiebreaker': 107, 'blue_auto': 31, 'blue_auto_movement': 6, 'blue_teleop': 70, 'blue_endgame': 22, 'blue_no_fouls': 123, 'blue_fouls': 0, 'blue_rp_1': 1, 'blue_rp_2': 1, 'blue_tiebreaker': 123}, {'key': '2023mosl_qm51', 'year': 2023, 'event': '2023mosl', 'comp_level': 'qm', 'set_number': 1, 'match_number': 51, 'offseason': False, 'status': 'Completed', 'video': 'et9IQWBOo5I', 'red_1': 3397, 'red_2': 9031, 'red_3': 5583, 'red_dq': '', 'red_surrogate': '', 'red_epa_sum': 47.69, 'red_auto_epa_sum': 16.64, 'red_teleop_epa_sum': 18.43, 'red_endgame_epa_sum': 12.62, 'red_rp_1_epa_sum': -0.5919, 'red_rp_2_epa_sum': 0.408, 'blue_1': 4500, 'blue_2': 2062, 'blue_3': 4256, 'blue_dq': '', 'blue_surrogate': '', 'blue_epa_sum': 86.36, 'blue_auto_epa_sum': 21.43, 'blue_teleop_epa_sum': 48.57, 'blue_endgame_epa_sum': 16.36, 'blue_rp_1_epa_sum': 0.0427, 'blue_rp_2_epa_sum': 0.5524, 'winner': 'blue', 'epa_winner': 'blue', 'epa_win_prob': 0.1306, 'red_rp_1_prob': 0.0125, 'red_rp_2_prob': 0.409, 'blue_rp_1_prob': 0.1383, 'blue_rp_2_prob': 0.5522, 'playoff': False, 'time': 1678488240, 'predicted_time': 1678488025, 'red_score': 62, 'blue_score': 107, 'red_auto': 6, 'red_auto_movement': 3, 'red_teleop': 21, 'red_endgame': 30, 'red_no_fouls': 57, 'red_fouls': 5, 'red_rp_1': 0, 'red_rp_2': 1, 'red_tiebreaker': 57, 'blue_auto': 25, 'blue_auto_movement': 6, 'blue_teleop': 55, 'blue_endgame': 22, 'blue_no_fouls': 102, 'blue_fouls': 5, 'blue_rp_1': 0, 'blue_rp_2': 1, 'blue_tiebreaker': 102}, {'key': '2023mosl_qm63', 'year': 2023, 'event': '2023mosl', 'comp_level': 'qm', 'set_number': 1, 'match_number': 63, 'offseason': False, 'status': 'Completed', 'video': '23CKfzHS6_s', 'red_1': 2202, 'red_2': 1208, 'red_3': 34, 'red_dq': '', 'red_surrogate': '', 'red_epa_sum': 80.41, 'red_auto_epa_sum': 23.0, 'red_teleop_epa_sum': 36.56, 'red_endgame_epa_sum': 20.85, 'red_rp_1_epa_sum': -0.2374, 'red_rp_2_epa_sum': 0.7149, 'blue_1': 3397, 'blue_2': 7117, 'blue_3': 4500, 'blue_dq': '', 'blue_surrogate': '', 'blue_epa_sum': 60.7, 'blue_auto_epa_sum': 16.65, 'blue_teleop_epa_sum': 26.61, 'blue_endgame_epa_sum': 17.45, 'blue_rp_1_epa_sum': -0.2607, 'blue_rp_2_epa_sum': 0.2838, 'winner': 'red', 'epa_winner': 'red', 'epa_win_prob': 0.7243, 'red_rp_1_prob': 0.0498, 'red_rp_2_prob': 0.7026, 'blue_rp_1_prob': 0.0455, 'blue_rp_2_prob': 0.2963, 'playoff': False, 'time': 1678549680, 'predicted_time': 1678549744, 'red_score': 85, 'blue_score': 56, 'red_auto': 28, 'red_auto_movement': 6, 'red_teleop': 35, 'red_endgame': 22, 'red_no_fouls': 85, 'red_fouls': 0, 'red_rp_1': 0, 'red_rp_2': 1, 'red_tiebreaker': 85, 'blue_auto': 22, 'blue_auto_movement': 3, 'blue_teleop': 14, 'blue_endgame': 20, 'blue_no_fouls': 56, 'blue_fouls': 0, 'blue_rp_1': 0, 'blue_rp_2': 1, 'blue_tiebreaker': 56}, {'key': '2023mosl_qm71', 'year': 2023, 'event': '2023mosl', 'comp_level': 'qm', 'set_number': 1, 'match_number': 71, 'offseason': False, 'status': 'Completed', 'video': 'mgkrbXq-4zs', 'red_1': 4143, 'red_2': 4500, 'red_3': 967, 'red_dq': '', 'red_surrogate': '', 'red_epa_sum': 129.92, 'red_auto_epa_sum': 34.39, 'red_teleop_epa_sum': 70.21, 'red_endgame_epa_sum': 25.32, 'red_rp_1_epa_sum': 0.2208, 'red_rp_2_epa_sum': 0.9638, 'blue_1': 8719, 'blue_2': 6823, 'blue_3': 1288, 'blue_dq': '', 'blue_surrogate': '', 'blue_epa_sum': 61.11, 'blue_auto_epa_sum': 12.18, 'blue_teleop_epa_sum': 30.92, 'blue_endgame_epa_sum': 18.0, 'blue_rp_1_epa_sum': -0.3284, 'blue_rp_2_epa_sum': 0.3137, 'winner': 'red', 'epa_winner': 'red', 'epa_win_prob': 0.9668, 'red_rp_1_prob': 0.2466, 'red_rp_2_prob': 0.8647, 'blue_rp_1_prob': 0.0351, 'blue_rp_2_prob': 0.3219, 'playoff': False, 'time': 1678553520, 'predicted_time': 1678553109, 'red_score': 114, 'blue_score': 42, 'red_auto': 34, 'red_auto_movement': 6, 'red_teleop': 78, 'red_endgame': 2, 'red_no_fouls': 114, 'red_fouls': 0, 'red_rp_1': 1, 'red_rp_2': 0, 'red_tiebreaker': 114, 'blue_auto': 12, 'blue_auto_movement': 3, 'blue_teleop': 22, 'blue_endgame': 8, 'blue_no_fouls': 42, 'blue_fouls': 0, 'blue_rp_1': 0, 'blue_rp_2': 0, 'blue_tiebreaker': 42}, {'key': '2023mosl_qm77', 'year': 2023, 'event': '2023mosl', 'comp_level': 'qm', 'set_number': 1, 'match_number': 77, 'offseason': False, 'status': 'Completed', 'video': 'cyvo8dy0Fqk', 'red_1': 2062, 'red_2': 967, 'red_3': 6420, 'red_dq': '', 'red_surrogate': '', 'red_epa_sum': 90.17, 'red_auto_epa_sum': 20.02, 'red_teleop_epa_sum': 50.54, 'red_endgame_epa_sum': 19.61, 'red_rp_1_epa_sum': -0.1647, 'red_rp_2_epa_sum': 0.5881, 'blue_1': 1259, 'blue_2': 8069, 'blue_3': 4500, 'blue_dq': '', 'blue_surrogate': '', 'blue_epa_sum': 84.92, 'blue_auto_epa_sum': 26.55, 'blue_teleop_epa_sum': 42.41, 'blue_endgame_epa_sum': 15.96, 'blue_rp_1_epa_sum': -0.0044, 'blue_rp_2_epa_sum': 0.7447, 'winner': 'red', 'epa_winner': 'red', 'epa_win_prob': 0.564, 'red_rp_1_prob': 0.0654, 'red_rp_2_prob': 0.5872, 'blue_rp_1_prob': 0.1174, 'blue_rp_2_prob': 0.7269, 'playoff': False, 'time': 1678556400, 'predicted_time': 1678556480, 'red_score': 99, 'blue_score': 49, 'red_auto': 12, 'red_auto_movement': 6, 'red_teleop': 65, 'red_endgame': 22, 'red_no_fouls': 99, 'red_fouls': 0, 'red_rp_1': 0, 'red_rp_2': 0, 'red_tiebreaker': 99, 'blue_auto': 7, 'blue_auto_movement': 3, 'blue_teleop': 17, 'blue_endgame': 20, 'blue_no_fouls': 44, 'blue_fouls': 5, 'blue_rp_1': 0, 'blue_rp_2': 0, 'blue_tiebreaker': 44}, {'key': '2023mosl_sf2m1', 'year': 2023, 'event': '2023mosl', 'comp_level': 'sf', 'set_number': 2, 'match_number': 1, 'offseason': False, 'status': 'Completed', 'video': 'EgSM2jHV2Og', 'red_1': 1259, 'red_2': 4500, 'red_3': 706, 'red_dq': '', 'red_surrogate': '', 'red_epa_sum': 95.2, 'red_auto_epa_sum': 25.75, 'red_teleop_epa_sum': 52.26, 'red_endgame_epa_sum': 17.19, 'red_rp_1_epa_sum': 0.1884, 'red_rp_2_epa_sum': 0.7977, 'blue_1': 2062, 'blue_2': 4256, 'blue_3': 4329, 'blue_dq': '', 'blue_surrogate': '', 'blue_epa_sum': 103.55, 'blue_auto_epa_sum': 29.1, 'blue_teleop_epa_sum': 52.86, 'blue_endgame_epa_sum': 21.59, 'blue_rp_1_epa_sum': -0.204, 'blue_rp_2_epa_sum': 0.8535, 'winner': 'blue', 'epa_winner': 'blue', 'epa_win_prob': 0.3991, 'red_rp_1_prob': 0.2234, 'red_rp_2_prob': 0.7669, 'blue_rp_1_prob': 0.0565, 'blue_rp_2_prob': 0.8044, 'playoff': True, 'time': 1678563480, 'predicted_time': 1678564334, 'red_score': 80, 'blue_score': 114, 'red_auto': 25, 'red_auto_movement': 3, 'red_teleop': 37, 'red_endgame': 18, 'red_no_fouls': 80, 'red_fouls': 0, 'red_rp_1': 0, 'red_rp_2': 0, 'red_tiebreaker': 80, 'blue_auto': 21, 'blue_auto_movement': 3, 'blue_teleop': 58, 'blue_endgame': 30, 'blue_no_fouls': 109, 'blue_fouls': 5, 'blue_rp_1': 0, 'blue_rp_2': 0, 'blue_tiebreaker': 109}, {'key': '2023mosl_sf5m1', 'year': 2023, 'event': '2023mosl', 'comp_level': 'sf', 'set_number': 5, 'match_number': 1, 'offseason': False, 'status': 'Completed', 'video': '-4VIGSo01Gk', 'red_1': 1178, 'red_2': 931, 'red_3': 1288, 'red_dq': '', 'red_surrogate': '', 'red_epa_sum': 80.19, 'red_auto_epa_sum': 21.06, 'red_teleop_epa_sum': 40.4, 'red_endgame_epa_sum': 18.73, 'red_rp_1_epa_sum': -0.2302, 'red_rp_2_epa_sum': 0.6291, 'blue_1': 706, 'blue_2': 4500, 'blue_3': 1259, 'blue_dq': '', 'blue_surrogate': '', 'blue_epa_sum': 93.51, 'blue_auto_epa_sum': 25.67, 'blue_teleop_epa_sum': 50.56, 'blue_endgame_epa_sum': 17.28, 'blue_rp_1_epa_sum': 0.1884, 'blue_rp_2_epa_sum': 0.7977, 'winner': 'draw', 'epa_winner': 'blue', 'epa_win_prob': 0.3423, 'red_rp_1_prob': 0.0511, 'red_rp_2_prob': 0.6263, 'blue_rp_1_prob': 0.2234, 'blue_rp_2_prob': 0.7669, 'playoff': True, 'time': 1678565220, 'predicted_time': 1678566322, 'red_score': 103, 'blue_score': 103, 'red_auto': 16, 'red_auto_movement': 3, 'red_teleop': 47, 'red_endgame': 30, 'red_no_fouls': 93, 'red_fouls': 10, 'red_rp_1': 0, 'red_rp_2': 0, 'red_tiebreaker': 93, 'blue_auto': 25, 'blue_auto_movement': 3, 'blue_teleop': 59, 'blue_endgame': 14, 'blue_no_fouls': 98, 'blue_fouls': 5, 'blue_rp_1': 0, 'blue_rp_2': 0, 'blue_tiebreaker': 98}]\n"
     ]
    }
   ],
   "source": [
    "# Example API Call\n",
    "\n",
    "import statbotics\n",
    "\n",
    "sb = statbotics.Statbotics()\n",
    "matches = sb.get_matches(4500)\n",
    "\n",
    "print(\"Year: \" + str(matches[0].get('year')))\n",
    "print(\"Match: \" + str(matches[0].get('match_number')))\n",
    "print(\"red EPA Sum: \" + str(matches[0].get('red_epa_sum')))\n",
    "print(\"blue EPA Sum: \" + str(matches[0].get('blue_epa_sum')))\n",
    "print(\"Winner: \" + str(matches[0].get('winner')))\n",
    "print(sb.get_matches(4500, year=2023))"
   ]
  },
  {
   "cell_type": "code",
   "execution_count": 13,
   "metadata": {},
   "outputs": [],
   "source": [
    "# Make Population\n",
    "\n",
    "full_population: list[dict] = []\n",
    "late_population: list[dict] = []\n",
    "elim_population: list[dict] = []\n",
    "TEAM_NUMBER: int = 4500\n",
    "UP_TO_YEAR = 2023\n",
    "\n",
    "def compile_all_matches():\n",
    "  for i in sb.get_matches(team=TEAM_NUMBER):\n",
    "    full_population.append(i)\n",
    "\n",
    "\n",
    "def compile_later_matches(skip: int = 2):\n",
    "  rookie_year = sb.get_team_years(TEAM_NUMBER)[0].get('year')\n",
    "  for year in range(rookie_year, UP_TO_YEAR):\n",
    "    try:\n",
    "      year_matches = sb.get_matches(team=TEAM_NUMBER, year=year)\n",
    "    except:\n",
    "      continue\n",
    "    num: int = 0\n",
    "    for match in year_matches:\n",
    "      num += 1\n",
    "      if (num > skip):\n",
    "        late_population.append(match)\n",
    "\n",
    "def compile_elimination_matches():\n",
    "  for match in sb.get_matches(team=TEAM_NUMBER, elims=True):\n",
    "    elim_population.append(match)\n",
    "\n",
    "compile_all_matches()\n",
    "compile_later_matches(2)\n",
    "compile_elimination_matches()"
   ]
  },
  {
   "cell_type": "code",
   "execution_count": 14,
   "metadata": {},
   "outputs": [],
   "source": [
    "# isolate EPAs\n",
    "\n",
    "pop = full_population\n",
    "\n",
    "team_years = []\n",
    "team_match_nums = []\n",
    "team_epas = []\n",
    "n = 0\n",
    "for i in pop:\n",
    "  n+=1\n",
    "  team_years.append(i.get('year'))\n",
    "  team_match_nums.append(n)\n",
    "  if i.get('red_1') == TEAM_NUMBER or i.get('red_2') == TEAM_NUMBER or i.get('red_3') == TEAM_NUMBER:\n",
    "    team_epas.append(i.get('red_epa_sum'))\n",
    "  else:\n",
    "    team_epas.append(i.get('blue_epa_sum'))\n"
   ]
  },
  {
   "cell_type": "markdown",
   "metadata": {},
   "source": [
    "### Now to Sample and Gather Proportions"
   ]
  },
  {
   "cell_type": "code",
   "execution_count": 25,
   "metadata": {},
   "outputs": [],
   "source": [
    "# Sampler\n",
    "\n",
    "import random\n",
    "\n",
    "def get_team_pred_vals(i: dict) -> dict:\n",
    "  if i.get('winner') == 'red':\n",
    "    return {'isCorrect': i.get('red_epa_sum') > i.get('blue_epa_sum'), 'actual': i.get('red_score')}\n",
    "  else:\n",
    "    return {'isCorrect': i.get('blue_epa_sum') > i.get('red_epa_sum'), 'actual': i.get('blue_score')}\n",
    "\n",
    "def s_samples_of_n_size(s: int, n: int, popl: list[dict]) -> list[(int, float)]:\n",
    "  l = []\n",
    "\n",
    "  for sample in range(s):\n",
    "    tmp_popl = popl.copy()\n",
    "    num_corr = 0\n",
    "    for item in range(n):\n",
    "      index = random.randint(0, len(tmp_popl)-1)\n",
    "      predicted = get_team_pred_vals(tmp_popl.pop(index))\n",
    "      if (predicted.get('isCorrect')):\n",
    "        num_corr += 1\n",
    "    l.append((sample, float(num_corr)/float(n)))\n",
    "\n",
    "  return l"
   ]
  },
  {
   "cell_type": "code",
   "execution_count": 26,
   "metadata": {},
   "outputs": [
    {
     "name": "stdout",
     "output_type": "stream",
     "text": [
      "{'key': '2013mosl_qm2', 'year': 2013, 'event': '2013mosl', 'comp_level': 'qm', 'set_number': 1, 'match_number': 2, 'offseason': False, 'status': 'Completed', 'video': 'IfarexX0y3A', 'red_1': 4331, 'red_2': 2978, 'red_3': 4500, 'red_dq': '', 'red_surrogate': '', 'red_epa_sum': 33.52, 'red_auto_epa_sum': None, 'red_teleop_epa_sum': None, 'red_endgame_epa_sum': None, 'red_rp_1_epa_sum': None, 'red_rp_2_epa_sum': None, 'blue_1': 1182, 'blue_2': 4402, 'blue_3': 3862, 'blue_dq': '', 'blue_surrogate': '', 'blue_epa_sum': 42.24, 'blue_auto_epa_sum': None, 'blue_teleop_epa_sum': None, 'blue_endgame_epa_sum': None, 'blue_rp_1_epa_sum': None, 'blue_rp_2_epa_sum': None, 'winner': 'blue', 'epa_winner': 'blue', 'epa_win_prob': 0.4005, 'red_rp_1_prob': None, 'red_rp_2_prob': None, 'blue_rp_1_prob': None, 'blue_rp_2_prob': None, 'playoff': False, 'time': 1363233602, 'predicted_time': None, 'red_score': 11, 'blue_score': 36, 'red_auto': None, 'red_auto_movement': None, 'red_teleop': None, 'red_endgame': None, 'red_no_fouls': None, 'red_fouls': None, 'red_rp_1': None, 'red_rp_2': None, 'red_tiebreaker': None, 'blue_auto': None, 'blue_auto_movement': None, 'blue_teleop': None, 'blue_endgame': None, 'blue_no_fouls': None, 'blue_fouls': None, 'blue_rp_1': None, 'blue_rp_2': None, 'blue_tiebreaker': None}\n"
     ]
    }
   ],
   "source": [
    "print(sb.get_matches(4500)[0])"
   ]
  }
 ],
 "metadata": {
  "kernelspec": {
   "display_name": "Python 3",
   "language": "python",
   "name": "python3"
  },
  "language_info": {
   "codemirror_mode": {
    "name": "ipython",
    "version": 3
   },
   "file_extension": ".py",
   "mimetype": "text/x-python",
   "name": "python",
   "nbconvert_exporter": "python",
   "pygments_lexer": "ipython3",
   "version": "3.11.7"
  }
 },
 "nbformat": 4,
 "nbformat_minor": 2
}
